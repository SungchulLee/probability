{
 "cells": [
  {
   "cell_type": "markdown",
   "metadata": {},
   "source": [
    "Each  :   10 Points\n",
    "\n",
    "Total :  150 Points   "
   ]
  },
  {
   "cell_type": "markdown",
   "metadata": {},
   "source": [
    "1. Let $Y = X_1 +\\cdots + X_N$, where the random variables $X_i$ are geometric with parameter $p$ and $N$ is geometric with parameter $q$. \n",
    "Assume that the random variables $N, X_1, X_2,\\ldots$ are independent. \n",
    "\n",
    "(a) \n",
    "Compute $\\mathbb{E}[Y]$.\n",
    "\n",
    "(b)\n",
    "Compute $\\mathbb{Var}[Y]$. \n",
    "\n",
    "(c) \n",
    "Identify the distribution of $Y$."
   ]
  },
  {
   "cell_type": "markdown",
   "metadata": {},
   "source": [
    "2. A pizza parlor serves $n$ different types of pizza, and is visited by a number $K$ of customers in a single day, where $K$ is a Poisson random variable with mean $\\lambda$. \n",
    "Each customer orders a single pizza, with all types of pizza being equally likely, independent of the number of other customers and the types of pizza they order. \n",
    "Let $X$ be the number of different types of pizzas ordered.\n",
    "\n",
    "(a) \n",
    "Compute $\\mathbb{E}[X]$.\n",
    "\n",
    "(b)\n",
    "Compute $\\mathbb{Var}[X]$.\n",
    "\n",
    "(c)\n",
    "Identify the distribution of $X$."
   ]
  },
  {
   "cell_type": "markdown",
   "metadata": {},
   "source": [
    "3. For a randomly shuffled 52 cards, we flip the cards one by one until we get all the four aces. \n",
    "Let $𝑋$ be the number of flips to get all the four aces.\n",
    "\n",
    "(a)\n",
    "Compute $\\mathbb{E}[X-4]$.\n",
    "\n",
    "<!-- [Solution] For each non ace card $i$, $i=1,2,\\ldots,48$, let $A_i$ be an event that this card is observed before we observe all the aces and $1_{A_i}$ be its indicator. Then,\n",
    "$$\n",
    "X-4=\\sum_{i=1}^{48}1_{A_i}\n",
    "$$\n",
    "Since $\\mathbb{P}\\left(A_i\\right)=1-\\mathbb{P}\\left(A_i^c\\right)=1-\\frac{1}{5}=\\frac{4}{5}$,\n",
    "$$\n",
    "1_{A_i}\\sim B\\left(p:=\\frac{4}{5}\\right)\n",
    "$$\n",
    "Therefore, with $p=4/5$\n",
    "$$\n",
    "\\mathbb{E}[X-4]\n",
    "=\\sum_{i=1}^{48}\\mathbb{E}\\left[1_{A_i}\\right]\n",
    "=\\sum_{i=1}^{48}p\n",
    "=48p\n",
    "$$ -->\n",
    "\n",
    "(b)\n",
    "Compute $\\mathbb{Var}[X-4]$.\n",
    "\n",
    "<!-- [Solution]\n",
    "If $A_i$ are independent, $X-4$ would be binormal.\n",
    "However, they are not independent.\n",
    "$$\\begin{array}{lll}\n",
    "\\mathbb{P}\\left(A_1A_2\\right)\n",
    "&=&\\displaystyle\n",
    "\\mathbb{P}\\left(A_1\\right)\\mathbb{P}\\left(A_2|A_1\\right)\\\\\n",
    "&=&\\displaystyle\n",
    "\\frac{4}{5}\\mathbb{P}\\left(A_2|A_1\\right)\\\\\n",
    "&=&\\displaystyle\n",
    "\\frac{4}{5}\\left[1-\\mathbb{P}\\left(A_2^c|A_1\\right)\\right]\\\\\n",
    "&=&\\displaystyle\n",
    "\\frac{4}{5}\\left[1-\\color{red}{\\frac{1}{6}}\\right]\\\\\n",
    "&=&\\displaystyle\n",
    "\\frac{4}{5}\\cdot\\frac{5}{6}\\\\\n",
    "&\\neq&\\displaystyle\n",
    "\\mathbb{P}\\left(A_1\\right)\\mathbb{P}\\left(A_2\\right)\\\\\n",
    "\\end{array}$$\n",
    "Since $A_i$ are not independent, $X-4$ is not binormal. \n",
    "\n",
    "However, we can still compute its variance.\n",
    "$$\\begin{array}{lll}\n",
    "\\displaystyle\n",
    "\\mathbb{Cov}\\left(1_{A_1},1_{A_2}\\right)\n",
    "&=&\\displaystyle\n",
    "\\mathbb{E}\\left[1_{A_1}1_{A_2}\\right]-\\mathbb{E}\\left[1_{A_1}\\right]\\mathbb{E}\\left[1_{A_2}\\right]\\\\\n",
    "&=&\\displaystyle\n",
    "\\mathbb{P}\\left[A_1A_2\\right]-\\mathbb{P}\\left[A_1\\right]\\mathbb{P}\\left[A_2\\right]\\\\\n",
    "&=&\\displaystyle\n",
    "\\frac{4}{5}\\cdot\\color{red}{\\frac{5}{6}}-\\frac{4}{5}\\cdot\\frac{4}{5}\\\\\n",
    "&=&\\displaystyle\n",
    "\\frac{4}{5^2\\cdot 6}\\\\\n",
    "&\\neq&\\displaystyle\n",
    "0\\\\\n",
    "\\end{array}$$\n",
    "$$\\begin{array}{lll}\n",
    "\\displaystyle\n",
    "\\mathbb{Var}\\left[X-4\\right]\n",
    "&=&\\displaystyle\n",
    "\\mathbb{Var}\\left[\\sum_{i=1}^{48}1_{A_i}\\right]\\\\\n",
    "&=&\\displaystyle\n",
    "(48)\\cdot\\mathbb{Var}\\left[1_{A_i}\\right]\n",
    "+(48^2-48)\\cdot\\mathbb{Cov}\\left(1_{A_1},1_{A_2}\\right)\\\\\n",
    "&=&\\displaystyle\n",
    "(48)\\cdot(pq)\n",
    "+(48^2-48)\\cdot\\frac{4}{5^2\\cdot 6}\\\\\n",
    "\\end{array}$$ -->"
   ]
  },
  {
   "cell_type": "markdown",
   "metadata": {},
   "source": [
    "4. Let $X_l$ and $X_2$ be independent and exponentially distributed with parameters\n",
    "$\\lambda_l$ and $\\lambda_2$, respectively. \n",
    "\n",
    "(a)\n",
    "Find the expected value of $\\min\\{X_1,X_2\\}$.\n",
    "\n",
    "(b)\n",
    "Find the expected value of $\\max\\{X_1,X_2\\}$."
   ]
  },
  {
   "cell_type": "markdown",
   "metadata": {},
   "source": [
    "5. Consider a Poisson process with parameter $\\lambda$, and an independent\n",
    "random variable $T$, which is exponential with parameter $\\nu$. \n",
    "Find the PMF of the\n",
    "number $X$ of Poisson arrivals during the time interval $[0,T]$."
   ]
  },
  {
   "cell_type": "markdown",
   "metadata": {},
   "source": [
    "4. The joint pdf $f_{F,Z}$ of $F$ and $Z$ are given below.\n",
    "\n",
    "$$\n",
    "\\displaystyle\n",
    "f_{F,Z}(f,z)\n",
    "=\n",
    "\\frac{1}{4}ze^{-\\frac{1}{2}\\left(1+f\\right)z}\n",
    "\\quad\n",
    "\\text{for $f>0$ and $z>0$}\n",
    "$$\n",
    "\n",
    "(a)\n",
    "For a given $F=f>0$\n",
    "identify the conditional distribution of $Z|F=f)$\n",
    "\n",
    "(b) \n",
    "Find the pdf $f_F(f)$ of $F$."
   ]
  },
  {
   "cell_type": "markdown",
   "metadata": {},
   "source": [
    "5. Let $X_1,Y_1,X_2,Y_2,\\ldots$ be iid uniform on $[0,1]$ and let\n",
    "$$W = (X_l+\\cdots+X_{16})-(Y_l+\\cdots+Y_{16})$$\n",
    "\n",
    "(a) Use the Chebyshev inequality and get an upper bound of $\\mathbb{P}\\left(|W|>1\\right)$.\n",
    "\n",
    "(b) Use the central limit theorem and approximately compute the probability $\\mathbb{P}\\left(|W|>1\\right)$ using the standard normal CDF $N$."
   ]
  },
  {
   "cell_type": "markdown",
   "metadata": {},
   "source": [
    "6. Let $X_n$ be non-negative random variables. Suppose\n",
    "$$\n",
    "\\mathbb{E}\\left[\\sum_{n=1}^\\infty X_n\\right] <\\infty\n",
    "$$\n",
    "Show that $X_n$ converges to 0, with probability 1."
   ]
  },
  {
   "cell_type": "markdown",
   "metadata": {},
   "source": [
    "7. Flip the fair coin until we get the pattern $HTT$. Let $W_{HTT}$ be the number of flips to\n",
    "get the first $HTT$. Calculate the mean and variance of WHT.\n",
    "\n",
    "(a) \n",
    "Compute $\\mathbb{E}[W_{HTT}]$.\n",
    "\n",
    "(b)\n",
    "Compute $\\mathbb{Var}[W_{HTT}]$."
   ]
  },
  {
   "cell_type": "code",
   "execution_count": null,
   "metadata": {},
   "outputs": [],
   "source": []
  }
 ],
 "metadata": {
  "kernelspec": {
   "display_name": "Python 3 (ipykernel)",
   "language": "python",
   "name": "python3"
  },
  "language_info": {
   "codemirror_mode": {
    "name": "ipython",
    "version": 3
   },
   "file_extension": ".py",
   "mimetype": "text/x-python",
   "name": "python",
   "nbconvert_exporter": "python",
   "pygments_lexer": "ipython3",
   "version": "3.9.18"
  }
 },
 "nbformat": 4,
 "nbformat_minor": 4
}
